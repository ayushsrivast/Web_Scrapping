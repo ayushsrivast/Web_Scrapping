{
 "cells": [
  {
   "cell_type": "code",
   "execution_count": 9,
   "metadata": {},
   "outputs": [],
   "source": [
    "import requests\n",
    "from requests_html import HTMLSession"
   ]
  },
  {
   "cell_type": "code",
   "execution_count": 10,
   "metadata": {},
   "outputs": [],
   "source": [
    "url = \"https://prefeitura.pbh.gov.br/saude/licitacao/pregao-eletronico-151-2020\""
   ]
  },
  {
   "cell_type": "code",
   "execution_count": 11,
   "metadata": {},
   "outputs": [],
   "source": [
    "try:\n",
    "    session = HTMLSession()\n",
    "    response = session.get(url)\n",
    "     \n",
    "except requests.exceptions.RequestException as e:\n",
    "    print(e)"
   ]
  },
  {
   "cell_type": "markdown",
   "metadata": {},
   "source": [
    "<h4> Publication Date (create CSS selectors)\n",
    "Bidding Date (create CSS selectors)\n",
    "Object (create CSS selectors) </h4>\n"
   ]
  },
  {
   "cell_type": "code",
   "execution_count": 48,
   "metadata": {},
   "outputs": [
    {
     "name": "stdout",
     "output_type": "stream",
     "text": [
      "atualizado em 10/03/2021 | 11:06\n",
      "DATA DA PUBLICAÇÃO: 02/02/2021\n",
      "\n",
      "OBJETO:\n",
      "\n",
      "Registro de Preços pelo prazo de 12 meses, para aquisição de grampo galvanizado.\n",
      "\n",
      "INFORMAÇÕES COMPLEMENTARES:\n",
      "\n",
      "Número do processo: 04.000.913/20-30\n",
      "identificador do banco do Brasil: 852045\n",
      "\n",
      "MODALIDADE: Pregão Eletrônico\n",
      "\n",
      "SITUAÇÃO: Homologado\n",
      "\n",
      "DATA DA LICITAÇÃO: 18/02/2021\n",
      "\n",
      "HISTÓRICO:\n",
      "\n",
      "\n",
      "Título\n",
      "Link\n",
      "Arquivo\n",
      "Data\n",
      "Aviso de Intenção de Registro de Preços\n",
      "ÍCONE DO LINK\n",
      "SEM ÍCONE\n",
      "30/10/2020\n",
      "Abertura de Licitação / Edital\n",
      "ÍCONE DO LINK\n",
      "ÍCONE PDF\n",
      "02/02/2021\n",
      "link Identificador Banco do Brasil\n",
      "ÍCONE DO LINK\n",
      "SEM ÍCONE\n",
      "02/02/2021\n",
      "Adjudicação e Homologação no DOM /Ata da sessão pública\n",
      "ÍCONE DO LINK\n",
      "ÍCONE PDF\n",
      "10/03/2021\n"
     ]
    }
   ],
   "source": [
    "author = response.html.find('#block-views-block-view-noticia-pbh-block-5', first=True).text\n",
    "print(author)"
   ]
  },
  {
   "cell_type": "markdown",
   "metadata": {},
   "source": [
    "<h4> All links related to this particular tender (create CSS selectors) </h4>"
   ]
  },
  {
   "cell_type": "code",
   "execution_count": 68,
   "metadata": {},
   "outputs": [],
   "source": [
    "get_nav_links = response.html.find('tbody')"
   ]
  },
  {
   "cell_type": "code",
   "execution_count": 69,
   "metadata": {},
   "outputs": [
    {
     "data": {
      "text/plain": [
       "['Aviso de Intenção de Registro de Preços\\nÍCONE DO LINK\\nSEM ÍCONE\\n30/10/2020\\nAbertura de Licitação / Edital\\nÍCONE DO LINK\\nÍCONE PDF\\n02/02/2021\\nlink Identificador Banco do Brasil\\nÍCONE DO LINK\\nSEM ÍCONE\\n02/02/2021\\nAdjudicação e Homologação no DOM /Ata da sessão pública\\nÍCONE DO LINK\\nÍCONE PDF\\n10/03/2021']"
      ]
     },
     "execution_count": 69,
     "metadata": {},
     "output_type": "execute_result"
    }
   ],
   "source": [
    "nav_links = []\n",
    " \n",
    "for i in range(len(get_nav_links)):\n",
    "    x = get_nav_links[i].text\n",
    "    nav_links.append(x)\n",
    "     \n",
    "nav_links"
   ]
  }
 ],
 "metadata": {
  "kernelspec": {
   "display_name": "Python 3",
   "language": "python",
   "name": "python3"
  },
  "language_info": {
   "codemirror_mode": {
    "name": "ipython",
    "version": 3
   },
   "file_extension": ".py",
   "mimetype": "text/x-python",
   "name": "python",
   "nbconvert_exporter": "python",
   "pygments_lexer": "ipython3",
   "version": "3.8.3"
  }
 },
 "nbformat": 4,
 "nbformat_minor": 4
}
